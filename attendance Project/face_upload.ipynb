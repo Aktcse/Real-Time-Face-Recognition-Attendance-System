{
 "cells": [
  {
   "cell_type": "code",
   "execution_count": 1,
   "id": "65eca193-2014-4222-ab2b-787cc5f95043",
   "metadata": {},
   "outputs": [
    {
     "data": {
      "text/plain": [
       "<cloudinary.Config at 0x2d85c5a92b0>"
      ]
     },
     "execution_count": 1,
     "metadata": {},
     "output_type": "execute_result"
    }
   ],
   "source": [
    "import firebase_admin\n",
    "from firebase_admin import credentials, firestore\n",
    "import cloudinary\n",
    "import cloudinary.uploader\n",
    "import cloudinary.api\n",
    "import requests\n",
    "\n",
    "# Firebase Initialization\n",
    "cred = credentials.Certificate(r\"C:\\Users\\akash\\OneDrive\\Desktop\\attendance Project\\firebase_credentials.json\")\n",
    "firebase_admin.initialize_app(cred)\n",
    "db = firestore.client()\n",
    "\n",
    "# Cloudinary Configuration\n",
    "cloudinary.config(\n",
    "    cloud_name=\"dhj2b9eiq\",\n",
    "    api_key=\"539426848796946\",\n",
    "    api_secret=\"NSD3O7O_SGgyGMj9aV9o7Q5CVR8\"\n",
    ")\n"
   ]
  },
  {
   "cell_type": "code",
   "execution_count": 4,
   "id": "c8be51fa-39d7-43f9-ac5d-72aa08252784",
   "metadata": {},
   "outputs": [
    {
     "name": "stdout",
     "output_type": "stream",
     "text": [
      "Student BirajanandaTripathy uploaded successfully!\n"
     ]
    }
   ],
   "source": [
    "def upload_student(name, reg_no, branch, image_path):\n",
    "    # Upload image to Cloudinary\n",
    "    result = cloudinary.uploader.upload(image_path)\n",
    "    photo_url = result[\"secure_url\"]\n",
    "\n",
    "    # Save Student Data to Firestore\n",
    "    student_ref = db.collection(\"students\").document(reg_no)\n",
    "    student_ref.set({\n",
    "        \"name\": name,\n",
    "        \"reg_no\": reg_no,\n",
    "        \"branch\": branch,\n",
    "        \"photo_url\": photo_url\n",
    "    })\n",
    "\n",
    "    print(f\"Student {name} uploaded successfully!\")\n",
    "\n",
    "# Example Usage\n",
    "# upload_student(\"Akash Kumar Tripathy\", \"2101104060\", r\"C:\\Users\\akash\\OneDrive\\Desktop\\StudentImages\\Akash_2101104060.jpg\")\n",
    "upload_student(\"BirajanandaTripathy\",\"2101104071\",\"CSE\",r\"C:\\Users\\akash\\OneDrive\\Desktop\\attendance Project\\StudentImages\\Birajananda_2101104071.jpg\")"
   ]
  },
  {
   "cell_type": "code",
   "execution_count": null,
   "id": "69ff1631-2267-4752-8fb2-31ac227eb613",
   "metadata": {},
   "outputs": [],
   "source": [
    "import firebase_admin\n",
    "from firebase_admin import credentials, firestore\n",
    "import cloudinary\n",
    "import cloudinary.uploader\n",
    "import cloudinary.api\n",
    "import requests\n",
    "\n",
    "# Firebase Initialization\n",
    "cred = credentials.Certificate(r\"C:\\Users\\akash\\OneDrive\\Desktop\\attendance Project\\firebase_credentials.json\")\n",
    "firebase_admin.initialize_app(cred)\n",
    "db = firestore.client()\n",
    "\n",
    "# Cloudinary Configuration\n",
    "cloudinary.config(\n",
    "    cloud_name=\"dhj2b9eiq\",\n",
    "    api_key=\"539426848796946\",\n",
    "    api_secret=\"NSD3O7O_SGgyGMj9aV9o7Q5CVR8\"\n",
    ")\n",
    "\n",
    "def upload_student(name, reg_no, branch, image_path):\n",
    "    try:\n",
    "        # Upload image to Cloudinary\n",
    "        result = cloudinary.uploader.upload(image_path)\n",
    "        photo_url = result[\"secure_url\"]\n",
    "\n",
    "        # Save Student Data to Firestore\n",
    "        student_ref = db.collection(\"students\").document(reg_no)\n",
    "        student_ref.set({\n",
    "            \"name\": name,\n",
    "            \"reg_no\": reg_no,\n",
    "            \"branch\": branch,\n",
    "            \"photo_url\": photo_url\n",
    "        })\n",
    "\n",
    "        print(f\"Student {name} uploaded successfully!\")\n",
    "\n",
    "    except Exception as e:\n",
    "        print(f\"Failed to upload student {name}: {e}\")\n",
    "\n",
    "# Example Usage\n",
    "# upload_student(\"Akash Kumar Tripathy\", \"2101104060\", \"CSE\", r\"C:\\Users\\akash\\OneDrive\\Desktop\\StudentImages\\Akash_2101104060.jpg\")\n",
    "upload_student(\"Birajananda Tripathy\", \"2101104071\", \"CSE\", r\"C:\\Users\\akash\\OneDrive\\Desktop\\attendance Project\\StudentImages\\Birajananda_2101104071.jpg\")\n"
   ]
  },
  {
   "cell_type": "code",
   "execution_count": 1,
   "id": "b4b14b45-cc16-493c-bcd8-9404bba8ca1a",
   "metadata": {},
   "outputs": [
    {
     "name": "stdout",
     "output_type": "stream",
     "text": [
      "Name: Akash Kumar Tripathy\n",
      "Reg No: 2101104060\n",
      "Branch: CSE\n",
      "Photo URL: https://res.cloudinary.com/dhj2b9eiq/image/upload/v1747130005/ugifligyyxwwuhcdg7aa.jpg\n",
      "----------------------------------------\n",
      "Name: BirajanandaTripathy\n",
      "Reg No: 2101104071\n",
      "Branch: CSE\n",
      "Photo URL: https://res.cloudinary.com/dhj2b9eiq/image/upload/v1747130067/qhujmcuk1o3z67nbxnoc.jpg\n",
      "----------------------------------------\n",
      "Name: Bhabani Sankar Samal\n",
      "Reg No: 2221104002\n",
      "Branch: CSE\n",
      "Photo URL: https://res.cloudinary.com/dhj2b9eiq/image/upload/v1747129931/mmuupjxhdcyxtuabgeil.jpg\n",
      "----------------------------------------\n"
     ]
    }
   ],
   "source": [
    "import firebase_admin\n",
    "from firebase_admin import credentials, firestore\n",
    "import webbrowser\n",
    "\n",
    "# Firebase Initialization (only if not already initialized)\n",
    "if not firebase_admin._apps:\n",
    "    cred = credentials.Certificate(r\"C:\\Users\\akash\\OneDrive\\Desktop\\attendance Project\\firebase_credentials.json\")\n",
    "    firebase_admin.initialize_app(cred)\n",
    "\n",
    "db = firestore.client()\n",
    "\n",
    "def fetch_all_students():\n",
    "    students_ref = db.collection(\"students\")\n",
    "    docs = students_ref.stream()\n",
    "\n",
    "    for doc in docs:\n",
    "        data = doc.to_dict()\n",
    "        print(f\"Name: {data['name']}\")\n",
    "        print(f\"Reg No: {data['reg_no']}\")\n",
    "        print(f\"Branch: {data['branch']}\")\n",
    "        print(f\"Photo URL: {data['photo_url']}\")\n",
    "        print(\"-\" * 40)\n",
    "\n",
    "        # Open photo in browser\n",
    "        webbrowser.open_new_tab(data['photo_url'])\n",
    "\n",
    "# Call the function\n",
    "fetch_all_students()\n"
   ]
  },
  {
   "cell_type": "code",
   "execution_count": null,
   "id": "8091739e-e719-4387-969b-08db0a112871",
   "metadata": {},
   "outputs": [],
   "source": []
  }
 ],
 "metadata": {
  "kernelspec": {
   "display_name": "Python 3 (ipykernel)",
   "language": "python",
   "name": "python3"
  },
  "language_info": {
   "codemirror_mode": {
    "name": "ipython",
    "version": 3
   },
   "file_extension": ".py",
   "mimetype": "text/x-python",
   "name": "python",
   "nbconvert_exporter": "python",
   "pygments_lexer": "ipython3",
   "version": "3.12.7"
  }
 },
 "nbformat": 4,
 "nbformat_minor": 5
}
